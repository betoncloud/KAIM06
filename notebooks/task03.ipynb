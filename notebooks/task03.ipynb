{
 "cells": [
  {
   "cell_type": "code",
   "execution_count": 19,
   "metadata": {},
   "outputs": [
    {
     "ename": "ModuleNotFoundError",
     "evalue": "No module named 'scripts.feature_engineering'",
     "output_type": "error",
     "traceback": [
      "\u001b[1;31m---------------------------------------------------------------------------\u001b[0m",
      "\u001b[1;31mModuleNotFoundError\u001b[0m                       Traceback (most recent call last)",
      "Cell \u001b[1;32mIn[19], line 1\u001b[0m\n\u001b[1;32m----> 1\u001b[0m \u001b[38;5;28;01mfrom\u001b[39;00m\u001b[38;5;250m \u001b[39m\u001b[38;5;21;01mscripts\u001b[39;00m\u001b[38;5;21;01m.\u001b[39;00m\u001b[38;5;21;01mfeature_engineering\u001b[39;00m\u001b[38;5;250m \u001b[39m\u001b[38;5;28;01mimport\u001b[39;00m create_aggregate_features,extract_transaction_features,encode_categorical_variables,handle_missing_values,scale_numerical_features\n\u001b[0;32m      3\u001b[0m \u001b[38;5;66;03m# Load the dataset\u001b[39;00m\n\u001b[0;32m      4\u001b[0m data \u001b[38;5;241m=\u001b[39m pd\u001b[38;5;241m.\u001b[39mread_csv(\u001b[38;5;124m'\u001b[39m\u001b[38;5;124m../data/data.csv\u001b[39m\u001b[38;5;124m'\u001b[39m)\n",
      "\u001b[1;31mModuleNotFoundError\u001b[0m: No module named 'scripts.feature_engineering'"
     ]
    }
   ],
   "source": [
    "from scripts.feature_engineering import create_aggregate_features,extract_transaction_features,encode_categorical_variables,handle_missing_values,scale_numerical_features\n",
    "\n",
    "# Load the dataset\n",
    "data = pd.read_csv('../data/data.csv')\n",
    "\n",
    "id_column = 'CustomerId'\n",
    "amount_column = 'Amount'\n",
    "datetime_column = 'TransactionStartTime'\n",
    "categorical_columns = ['ProductCategory']\n",
    "numerical_columns = ['Amount']\n",
    "\n",
    "    # Create Aggregate Features\n",
    "aggregate_features = create_aggregate_features(data, id_column, amount_column)\n",
    "\n",
    "    # Extract Features\n",
    "data = extract_transaction_features(data, datetime_column)\n",
    "\n",
    "    # Encode Categorical Variables\n",
    "#data, label_encoders = encode_categorical_variables(data, categorical_columns)\n",
    "\n",
    "    # Handle Missing Values\n",
    "#data = handle_missing_values(data, strategy='mean')\n",
    "\n",
    "    # Normalize/Standardize Numerical Features\n",
    "data = scale_numerical_features(data, numerical_columns, method='standardize')\n",
    "\n",
    "print(\"Feature Engineering tasks completed successfully!\")\n",
    "\n"
   ]
  }
 ],
 "metadata": {
  "kernelspec": {
   "display_name": ".venv",
   "language": "python",
   "name": "python3"
  },
  "language_info": {
   "codemirror_mode": {
    "name": "ipython",
    "version": 3
   },
   "file_extension": ".py",
   "mimetype": "text/x-python",
   "name": "python",
   "nbconvert_exporter": "python",
   "pygments_lexer": "ipython3",
   "version": "3.11.2"
  }
 },
 "nbformat": 4,
 "nbformat_minor": 2
}
